{
  "nbformat": 4,
  "nbformat_minor": 0,
  "metadata": {
    "colab": {
      "provenance": []
    },
    "kernelspec": {
      "name": "python3",
      "display_name": "Python 3"
    },
    "language_info": {
      "name": "python"
    }
  },
  "cells": [
    {
      "cell_type": "markdown",
      "source": [
        "1.Given the participants' score sheet for your University Sports Day, you are required to\n",
        "find the runner-up score. You are given scores. Store them in a list and find the score of\n",
        "the runner-up. (Create an array of scores and print the runner up score)"
      ],
      "metadata": {
        "id": "fSzTGMajT3WU"
      }
    },
    {
      "cell_type": "code",
      "source": [
        "n = 5\n",
        "arr = [2,5,8,8,4]\n",
        "arr.sort(reverse=True) #arr=sorted(arr)\n",
        "largest =arr[0]\n",
        "for ele in arr[1:]:\n",
        "  if ele <largest:\n",
        "    print(\"The runner_up score is:\",ele)\n",
        "    break\n"
      ],
      "metadata": {
        "colab": {
          "base_uri": "https://localhost:8080/"
        },
        "id": "eun_XA4fTgBe",
        "outputId": "ac79d816-0fa4-4ea1-d5e2-4b007d582a90"
      },
      "execution_count": null,
      "outputs": [
        {
          "output_type": "stream",
          "name": "stdout",
          "text": [
            "The runner_up score is: 5\n"
          ]
        }
      ]
    },
    {
      "cell_type": "markdown",
      "source": [
        "2.A dictionary is given D={‘John’ [25,32,43],’Peter’:[87,55,96],’Ram’:[58,55,43],’Meena’:[63,79,85]}\n",
        "Get a name from user if the name in the dictionary change the values corresponding to\n",
        "that user to [88,77,99] and print the dictionary. Else print ‘Name not found’."
      ],
      "metadata": {
        "id": "hdvVYtkqUUxQ"
      }
    },
    {
      "cell_type": "code",
      "source": [
        "d={'John':[25,32,43],'Peter':[87,55,96],'Ram':[58,55,43],'Meena':[63,79,85]}\n",
        "name=input('Enter the name:').capitalize( )\n",
        "if name in d:\n",
        "  d[name]=[88,77,99]\n",
        "  print(d)\n",
        "else:\n",
        "  print('Name not found!')\n"
      ],
      "metadata": {
        "colab": {
          "base_uri": "https://localhost:8080/"
        },
        "id": "gxOScAd9Jub0",
        "outputId": "f6ad0c94-416b-4e00-d9d9-bfb9d01e953c"
      },
      "execution_count": null,
      "outputs": [
        {
          "output_type": "stream",
          "name": "stdout",
          "text": [
            "Enter the name:ram\n",
            "{'John': [25, 32, 43], 'Peter': [87, 55, 96], 'Ram': [88, 77, 99], 'Meena': [63, 79, 85]}\n"
          ]
        }
      ]
    },
    {
      "cell_type": "code",
      "source": [],
      "metadata": {
        "id": "u8-UvnEpYHqq"
      },
      "execution_count": null,
      "outputs": []
    },
    {
      "cell_type": "markdown",
      "source": [
        "3.Ticket Price Calculator:\n",
        "\n",
        "I. Ask the user to enter their age.\n",
        "\n",
        "II. Use control statements (if-elif-else) to calculate the ticket price based on the following conditions:\n",
        "\n",
        "a. If the age is below 5, the ticket price is free.\n",
        "\n",
        "b. If the age is between 5 and 12 (inclusive), the ticket price is Rs.10.\n",
        "\n",
        "c. If the age is above 12, the ticket price is Rs.50.\n",
        "\n",
        "d. If the age is above 60, the ticket price is free.\n",
        "\n",
        "e. If the gender is female, the ticket price is 50% of the applicable rates.\n",
        "\n",
        "III. Display the ticket price to the user."
      ],
      "metadata": {
        "id": "J3lTjjmsUg0o"
      }
    },
    {
      "cell_type": "code",
      "source": [
        "user_age=int(input('Enter your age: '))\n",
        "a=\"male\"\n",
        "b=\"female\"\n",
        "gender =(input('Enter your gender: ')).lower()\n",
        "if gender==a:\n",
        " if user_age<5 or user_age>60:\n",
        "  print('Entry free')\n",
        " elif user_age>=5 and user_age<=12:\n",
        "    print('Ticket price isRs.10')\n",
        " else:\n",
        "    print('Ticket price isRs.50')\n",
        "else:\n",
        "  if user_age<5 or user_age>60:\n",
        "   print('Entry free')\n",
        "  elif user_age>=5 and user_age<=12:\n",
        "   print('Ticket price isRs.5')\n",
        "  else:\n",
        "    print('Ticket price isRs.25')"
      ],
      "metadata": {
        "id": "5qxdcE-GTe2N",
        "colab": {
          "base_uri": "https://localhost:8080/"
        },
        "outputId": "ed63d772-4b7d-4db8-cbdd-d67c6b95a021"
      },
      "execution_count": null,
      "outputs": [
        {
          "output_type": "stream",
          "name": "stdout",
          "text": [
            "Enter your age: 56\n",
            "Enter your gender: male\n",
            "Ticket price isRs.50\n"
          ]
        }
      ]
    }
  ]
}